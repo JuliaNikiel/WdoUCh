{
 "cells": [
  {
   "cell_type": "code",
   "execution_count": 3,
   "metadata": {},
   "outputs": [],
   "source": [
    "import pandas as pd"
   ]
  },
  {
   "cell_type": "code",
   "execution_count": 4,
   "metadata": {},
   "outputs": [],
   "source": [
    "player_df = pd.read_csv('player_data.csv')"
   ]
  },
  {
   "cell_type": "code",
   "execution_count": null,
   "metadata": {},
   "outputs": [],
   "source": [
    "# Print out the first five rows of the player_df DataFrame.\n",
    "player_df.head()\n",
    "# Print out the information about the DataFrame.\n",
    "player_df.info()"
   ]
  },
  {
   "cell_type": "code",
   "execution_count": 5,
   "metadata": {},
   "outputs": [
    {
     "data": {
      "text/plain": [
       "ID              0\n",
       "points          3\n",
       "possessions     3\n",
       "team_pace       3\n",
       "Unnamed: 4     46\n",
       "Unnamed: 5     46\n",
       "GP              7\n",
       "MPG             6\n",
       "TS%             1\n",
       "AST             1\n",
       "TO              1\n",
       "USG             1\n",
       "ORR             1\n",
       "DRR             1\n",
       "REBR            1\n",
       "PER            10\n",
       "dtype: int64"
      ]
     },
     "execution_count": 5,
     "metadata": {},
     "output_type": "execute_result"
    }
   ],
   "source": [
    "# Total up the number of NaN values in each row of the DataFrame.\n",
    "player_df.isna().sum()\n"
   ]
  },
  {
   "cell_type": "code",
   "execution_count": 6,
   "metadata": {},
   "outputs": [
    {
     "data": {
      "text/plain": [
       "ID              0\n",
       "points          3\n",
       "possessions     3\n",
       "team_pace       3\n",
       "GP              7\n",
       "MPG             6\n",
       "TS%             1\n",
       "AST             1\n",
       "TO              1\n",
       "USG             1\n",
       "ORR             1\n",
       "DRR             1\n",
       "REBR            1\n",
       "PER            10\n",
       "dtype: int64"
      ]
     },
     "execution_count": 6,
     "metadata": {},
     "output_type": "execute_result"
    }
   ],
   "source": [
    "# Drop columns that have no values.\n",
    "player_df.dropna(axis='columns', inplace=True, how='all')\n",
    "player_df.isna().sum()"
   ]
  },
  {
   "cell_type": "code",
   "execution_count": 7,
   "metadata": {},
   "outputs": [
    {
     "data": {
      "text/plain": [
       "ID              0\n",
       "points          3\n",
       "possessions     3\n",
       "team_pace       3\n",
       "GP              7\n",
       "MPG             6\n",
       "TS%             1\n",
       "AST             1\n",
       "TO              1\n",
       "USG             1\n",
       "ORR             1\n",
       "DRR             1\n",
       "REBR            1\n",
       "PER            10\n",
       "dtype: int64"
      ]
     },
     "execution_count": 7,
     "metadata": {},
     "output_type": "execute_result"
    }
   ],
   "source": [
    "# Drop rows that have no values.\n",
    "player_df.dropna(inplace=True, how='all')\n",
    "player_df.isna().sum()"
   ]
  },
  {
   "cell_type": "code",
   "execution_count": 8,
   "metadata": {},
   "outputs": [
    {
     "data": {
      "text/plain": [
       "ID             0\n",
       "points         0\n",
       "possessions    0\n",
       "team_pace      0\n",
       "GP             6\n",
       "MPG            5\n",
       "TS%            0\n",
       "AST            0\n",
       "TO             0\n",
       "USG            0\n",
       "ORR            0\n",
       "DRR            0\n",
       "REBR           0\n",
       "PER            9\n",
       "dtype: int64"
      ]
     },
     "execution_count": 8,
     "metadata": {},
     "output_type": "execute_result"
    }
   ],
   "source": [
    "# Drop all rows that don't have at least 12 non-NaN values.\n",
    "player_df.dropna(inplace=True, thresh=12)\n",
    "player_df.isna().sum()"
   ]
  },
  {
   "cell_type": "code",
   "execution_count": 9,
   "metadata": {},
   "outputs": [
    {
     "name": "stdout",
     "output_type": "stream",
     "text": [
      "<class 'pandas.core.frame.DataFrame'>\n",
      "RangeIndex: 42 entries, 0 to 41\n",
      "Data columns (total 14 columns):\n",
      " #   Column       Non-Null Count  Dtype  \n",
      "---  ------       --------------  -----  \n",
      " 0   ID           42 non-null     int64  \n",
      " 1   points       42 non-null     float64\n",
      " 2   possessions  42 non-null     float64\n",
      " 3   team_pace    42 non-null     float64\n",
      " 4   GP           36 non-null     float64\n",
      " 5   MPG          37 non-null     float64\n",
      " 6   TS%          42 non-null     float64\n",
      " 7   AST          42 non-null     float64\n",
      " 8   TO           42 non-null     float64\n",
      " 9   USG          42 non-null     float64\n",
      " 10  ORR          42 non-null     float64\n",
      " 11  DRR          42 non-null     float64\n",
      " 12  REBR         42 non-null     float64\n",
      " 13  PER          33 non-null     float64\n",
      "dtypes: float64(13), int64(1)\n",
      "memory usage: 4.7 KB\n"
     ]
    }
   ],
   "source": [
    "# Renumber the DataFrame index to account for the dropped rows.\n",
    "player_df.reset_index(drop=True, inplace=True)\n",
    "player_df.info()"
   ]
  },
  {
   "cell_type": "code",
   "execution_count": null,
   "metadata": {},
   "outputs": [],
   "source": [
    "# to identify outliers is to use the pandas describe() function\n",
    "player_df.describe()"
   ]
  },
  {
   "cell_type": "code",
   "execution_count": 1,
   "metadata": {},
   "outputs": [
    {
     "ename": "ModuleNotFoundError",
     "evalue": "No module named 'seaborn'",
     "output_type": "error",
     "traceback": [
      "\u001b[1;31m---------------------------------------------------------------------------\u001b[0m",
      "\u001b[1;31mModuleNotFoundError\u001b[0m                       Traceback (most recent call last)",
      "Cell \u001b[1;32mIn[1], line 2\u001b[0m\n\u001b[0;32m      1\u001b[0m \u001b[38;5;28;01mimport\u001b[39;00m \u001b[38;5;21;01mmatplotlib\u001b[39;00m\u001b[38;5;21;01m.\u001b[39;00m\u001b[38;5;21;01mpyplot\u001b[39;00m \u001b[38;5;28;01mas\u001b[39;00m \u001b[38;5;21;01mplt\u001b[39;00m\n\u001b[1;32m----> 2\u001b[0m \u001b[38;5;28;01mimport\u001b[39;00m \u001b[38;5;21;01mseaborn\u001b[39;00m \u001b[38;5;28;01mas\u001b[39;00m \u001b[38;5;21;01msns\u001b[39;00m\n",
      "\u001b[1;31mModuleNotFoundError\u001b[0m: No module named 'seaborn'"
     ]
    }
   ],
   "source": [
    "import matplotlib.pyplot as plt\n",
    "import seaborn as sns"
   ]
  },
  {
   "cell_type": "code",
   "execution_count": null,
   "metadata": {},
   "outputs": [],
   "source": [
    "# Create a list of all column names, except for ID.\n",
    "cols = list(player_df.iloc[:, 1:])\n",
    "# Create a 3x5 matrix of subplots.\n",
    "fig, axes = plt.subplots(3, 5, figsize=(18, 11))\n",
    "# Create padding around subplots to make the axis labels readable.\n",
    "fig.tight_layout(pad=2.0)\n",
    "# Loop over the columns of the DataFrame and create a box plot for each one.\n",
    "for i in range(len(cols)):\n",
    " sns.boxplot(ax=axes[i//5, i%5], y=player_df[cols[i]])"
   ]
  },
  {
   "cell_type": "code",
   "execution_count": null,
   "metadata": {},
   "outputs": [],
   "source": [
    "# Identify the index number of the row that has the lowest value in 'points'.\n",
    "points_outlier = player_df['points'].idxmin()\n",
    "points_outlier"
   ]
  },
  {
   "cell_type": "code",
   "execution_count": null,
   "metadata": {},
   "outputs": [],
   "source": [
    "# Identify the index number of the row that has the lowest value in 'possession'.\n",
    "possession_outlier = player_df['possessions'].idxmin()\n",
    "possession_outlier"
   ]
  },
  {
   "cell_type": "code",
   "execution_count": null,
   "metadata": {},
   "outputs": [],
   "source": [
    "# Drop the row that has the outlying values for 'points' and 'possessions'.\n",
    "player_df.drop(player_df.index[points_outlier], inplace=True)\n",
    "# Check the end of the DataFrame to ensure that the correct row was dropped.\n",
    "player_df.tail(10)"
   ]
  },
  {
   "cell_type": "code",
   "execution_count": null,
   "metadata": {},
   "outputs": [],
   "source": [
    "# Renumber the DataFrame index to reflect the dropped rows.\n",
    "player_df.reset_index(drop=True, inplace=True)"
   ]
  },
  {
   "cell_type": "code",
   "execution_count": null,
   "metadata": {},
   "outputs": [],
   "source": [
    "# Recheck the totals for NaN values by row.\n",
    "player_df.isna().sum()"
   ]
  },
  {
   "cell_type": "code",
   "execution_count": null,
   "metadata": {},
   "outputs": [],
   "source": [
    "# Create a list of all column names, except for 'ID'.\n",
    "cols = list(player_df.iloc[:, 1:])\n",
    "# Define the size for the plots and add padding around them.\n",
    "fig = plt.figure(figsize=(18, 11))\n",
    "fig.tight_layout(pad=5.0)\n",
    "# Loop over the columns in the DataFrame and create a histogram for each one.\n",
    "for i in range(len(cols)):\n",
    " plt.subplot(3, 5, i+1)\n",
    " plt.hist(player_df[cols[i]], bins=30)\n",
    " plt.title(cols[i])"
   ]
  },
  {
   "cell_type": "code",
   "execution_count": null,
   "metadata": {},
   "outputs": [],
   "source": [
    "# Create a histogram for the 'GP' column.\n",
    "plt.hist(player_df['GP'], bins=30);\n",
    "\n",
    "# Create a histogram for the 'GP' column, this time as a probability density.\n",
    "plt.hist(player_df['GP'], density=True, bins=30);"
   ]
  },
  {
   "cell_type": "code",
   "execution_count": null,
   "metadata": {},
   "outputs": [],
   "source": [
    "# Plot the KDE for 'GP' over the probability-density histogram.\n",
    "plt.hist(player_df['GP'], density=True, bins=15)\n",
    "plt.title('GP histogram')\n",
    "sns.kdeplot(player_df['GP']);"
   ]
  },
  {
   "cell_type": "code",
   "execution_count": null,
   "metadata": {},
   "outputs": [],
   "source": [
    "# Create a list of all column names, except for 'ID'.\n",
    "cols = list(player_df.iloc[:, 1:])\n",
    "\n",
    "# Create a 3x5 matrix of subplots and add padding around them for readability.\n",
    "fig, axes = plt.subplots(3, 5, figsize=(18, 11))\n",
    "fig.tight_layout(pad=2.0)\n",
    "\n",
    "# Loop over the columns of the DataFrame and create a KDE for each one.\n",
    "for i in range(len(cols)):\n",
    "    sns.kdeplot(ax=axes[i//5, i%5], data=player_df[cols[i]])"
   ]
  },
  {
   "cell_type": "code",
   "execution_count": null,
   "metadata": {},
   "outputs": [],
   "source": [
    "# Plot the KDE for 'points' over the probability-density histogram.\n",
    "plt.hist(player_df['points'], density=True, bins=15)\n",
    "plt.title('Points histogram')\n",
    "sns.kdeplot(player_df['points']);\n",
    "\n",
    "player_df.loc[player_df['points'] >= 1600].info()\n",
    "\n",
    "# Plot the KDE for 'DRR' over the probability-density histogram.\n",
    "plt.hist(player_df['DRR'], density=True, bins=15)\n",
    "plt.title('DRR histogram')\n",
    "sns.kdeplot(player_df['DRR']);\n",
    "\n",
    "player_df.loc[(player_df['points'] >= 1600) & (player_df['DRR'] >= 15)].info()\n",
    "\n",
    "# Tune Squad players probably have a higher PER ??\n",
    "# Plot the KDE for 'PER' over the probability-density histogram.\n",
    "plt.hist(player_df['PER'], density=True, bins=15)\n",
    "plt.title('PER histogram')\n",
    "sns.kdeplot(player_df['PER']);\n",
    "player_df.loc[(player_df['points'] >= 1600) & (player_df['DRR'] >= 15) & (player_df['PER'] >= 17)]"
   ]
  },
  {
   "cell_type": "code",
   "execution_count": null,
   "metadata": {},
   "outputs": [],
   "source": [
    "# Initialize the list to house the player data.\n",
    "pop_list = []\n",
    "\n",
    "# If the ID number is 30 or less, it's a human player; otherwise, it's a Tune Squad player.\n",
    "for id in player_df['ID']:\n",
    "    if id <= 30:\n",
    "        pop_list.append('player'+str(id))\n",
    "    else:\n",
    "        pop_list.append('tune_squad'+str(id%30))\n",
    "\n",
    "pop_list\n",
    "\n",
    "# Assign this list as the values for the new player column in the DataFrame.\n",
    "player_df['player'] = pop_list\n",
    "player_df.head()"
   ]
  },
  {
   "cell_type": "code",
   "execution_count": null,
   "metadata": {},
   "outputs": [],
   "source": [
    "# Create list of all DataFrame column names but the last one.\n",
    "column_list = list(player_df.iloc[:, :-1])\n",
    "\n",
    "# Make player the second item in the list.\n",
    "column_list.insert(1, 'player')\n",
    "\n",
    "# Reassign the columns in the player_df DataFrame in this new order.\n",
    "player_df = player_df[column_list]\n",
    "\n",
    "# Verify that the columns are ordered the way you expect.\n",
    "player_df.head()"
   ]
  },
  {
   "cell_type": "code",
   "execution_count": null,
   "metadata": {},
   "outputs": [],
   "source": [
    "# Recheck the totals for NaN values by row.\n",
    "player_df.isna().sum()"
   ]
  },
  {
   "cell_type": "code",
   "execution_count": null,
   "metadata": {},
   "outputs": [],
   "source": [
    "# Plot the KDE for 'GP' over the probability-density histogram.\n",
    "plt.hist(player_df['GP'], density=True, bins=15)\n",
    "plt.title('GP histogram')\n",
    "sns.kdeplot(player_df['GP']);\n",
    "\n",
    "# Plot the KDE for 'MPG' over the probability-density histogram.\n",
    "plt.hist(player_df['MPG'], density=True, bins=15)\n",
    "plt.title('MPG histogram')\n",
    "sns.kdeplot(player_df['MPG']);\n",
    "\n",
    "# Plot the KDE for 'PER' over the probability-density histogram.\n",
    "plt.hist(player_df['PER'], density=True, bins=15)\n",
    "plt.title('PER histogram')\n",
    "sns.kdeplot(player_df['PER']);"
   ]
  },
  {
   "cell_type": "code",
   "execution_count": null,
   "metadata": {},
   "outputs": [],
   "source": [
    "# Replace the missing values in 'GP' and 'MPG' with the mean values of the respective columns.\n",
    "player_df[['GP','MPG']] = player_df[['GP','MPG']].fillna(value=player_df[['GP','MPG']].mean())\n",
    "\n",
    "# Recheck the totals for NaN values by row to ensure that the expected missing values are filled in.\n",
    "player_df.isna().sum()"
   ]
  },
  {
   "cell_type": "code",
   "execution_count": null,
   "metadata": {},
   "outputs": [],
   "source": [
    "from sklearn.linear_model import LinearRegression\n",
    "from sklearn.metrics import r2_score\n",
    "from sklearn.model_selection import cross_val_score\n",
    "\n",
    "# Define the variables for the regression model as those rows that have no missing values.\n",
    "X = player_df.dropna(how='any').iloc[:, 5:-1].to_numpy()\n",
    "y = player_df.dropna(how='any').iloc[:, -1]\n",
    "\n",
    "# Define the regression model.\n",
    "lin_reg = LinearRegression()\n",
    "\n",
    "# Use the scikit-learn cross-validation function to fit this model 10 times and return the R2 scores.\n",
    "scores = cross_val_score(lin_reg, X, y, cv=10, scoring='r2')\n",
    "\n",
    "# Define the histogram of the scores and copy out information from the histogram.\n",
    "entries, bin_edges, patches = plt.hist(scores, bins=10);\n",
    "\n",
    "# Print out the mean and the results from the histogram.\n",
    "print('Mean r2 score: {:.4f}'.format(scores.mean()))\n",
    "for i in range(len(entries)):\n",
    "    if entries[i] > 0:\n",
    "        print('{:.0f}% of r2 scores are between {:.4f} and {:.4f}'.format(entries[i]*100/len(entries), \n",
    "        bin_edges[i], \n",
    "        bin_edges[i+1]))"
   ]
  },
  {
   "cell_type": "code",
   "execution_count": null,
   "metadata": {},
   "outputs": [],
   "source": [
    "# Fit the same regression model, this time using all of the available data.\n",
    "lin_reg.fit(X, y)"
   ]
  },
  {
   "cell_type": "code",
   "execution_count": null,
   "metadata": {},
   "outputs": [],
   "source": [
    "# Create and display a mask of rows in the DataFrame. Rows should contain at least one NaN value.\n",
    "mask = player_df.isnull().any(axis=1)\n",
    "mask\n",
    "# Apply the mask defined earlier to show the contents of specific columns of rows that contain NaN values.\n",
    "player_df.loc[mask].iloc[:, 5:-1]"
   ]
  },
  {
   "cell_type": "code",
   "execution_count": null,
   "metadata": {},
   "outputs": [],
   "source": [
    "# Impute the missing values in 'PER' by using the regression model and mask.\n",
    "player_df.loc[mask, 'PER'] = lin_reg.predict(player_df.loc[mask].iloc[:, 5:-1])\n",
    "\n",
    "# Recheck the DataFrame for rows that have missing values.\n",
    "player_df.isna().sum()"
   ]
  },
  {
   "cell_type": "code",
   "execution_count": null,
   "metadata": {},
   "outputs": [],
   "source": [
    "player_df.to_csv('player_data_final.csv', index=False)"
   ]
  }
 ],
 "metadata": {
  "kernelspec": {
   "display_name": "Python 3",
   "language": "python",
   "name": "python3"
  },
  "language_info": {
   "codemirror_mode": {
    "name": "ipython",
    "version": 3
   },
   "file_extension": ".py",
   "mimetype": "text/x-python",
   "name": "python",
   "nbconvert_exporter": "python",
   "pygments_lexer": "ipython3",
   "version": "3.9.2"
  }
 },
 "nbformat": 4,
 "nbformat_minor": 2
}
